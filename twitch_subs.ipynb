{
 "cells": [
  {
   "cell_type": "markdown",
   "id": "a940d86b",
   "metadata": {},
   "source": [
    "### Twitch Subs Analytics\n",
    "#### Introduction\n",
    "- subscriber-list.csv is generated on Twitch > Analytics > Earnings > Subscribers frame \"View details\" > \"Download my subscriber list\"\n",
    "<br> https://dashboard.twitch.tv/u/YOUR_TWITCH_USERNAME/analytics/revenue-earnings/subscriptions\n",
    "- colors for matplotlib charts\n",
    "<Br> https://matplotlib.org/stable/gallery/color/named_colors.html\n"
   ]
  },
  {
   "cell_type": "markdown",
   "id": "74b56ddb",
   "metadata": {},
   "source": [
    "Load the Data"
   ]
  },
  {
   "cell_type": "code",
   "execution_count": 1,
   "id": "3129060b",
   "metadata": {},
   "outputs": [
    {
     "data": {
      "text/html": [
       "<div>\n",
       "<style scoped>\n",
       "    .dataframe tbody tr th:only-of-type {\n",
       "        vertical-align: middle;\n",
       "    }\n",
       "\n",
       "    .dataframe tbody tr th {\n",
       "        vertical-align: top;\n",
       "    }\n",
       "\n",
       "    .dataframe thead th {\n",
       "        text-align: right;\n",
       "    }\n",
       "</style>\n",
       "<table border=\"1\" class=\"dataframe\">\n",
       "  <thead>\n",
       "    <tr style=\"text-align: right;\">\n",
       "      <th></th>\n",
       "      <th>Username</th>\n",
       "      <th>Subscribe Date</th>\n",
       "      <th>Current Tier</th>\n",
       "      <th>Tenure</th>\n",
       "      <th>Streak</th>\n",
       "      <th>Sub Type</th>\n",
       "      <th>Founder</th>\n",
       "    </tr>\n",
       "  </thead>\n",
       "  <tbody>\n",
       "    <tr>\n",
       "      <th>0</th>\n",
       "      <td>user 1</td>\n",
       "      <td>2020-07-11T12:48:30Z</td>\n",
       "      <td>Tier 1</td>\n",
       "      <td>63</td>\n",
       "      <td>13</td>\n",
       "      <td>prime</td>\n",
       "      <td>False</td>\n",
       "    </tr>\n",
       "    <tr>\n",
       "      <th>1</th>\n",
       "      <td>user 2</td>\n",
       "      <td>2021-01-08T02:33:57Z</td>\n",
       "      <td>Tier 3</td>\n",
       "      <td>18</td>\n",
       "      <td>18</td>\n",
       "      <td>recurring</td>\n",
       "      <td>False</td>\n",
       "    </tr>\n",
       "    <tr>\n",
       "      <th>2</th>\n",
       "      <td>user 3</td>\n",
       "      <td>2019-08-05T22:51:37Z</td>\n",
       "      <td>Tier 1</td>\n",
       "      <td>60</td>\n",
       "      <td>36</td>\n",
       "      <td>prime</td>\n",
       "      <td>True</td>\n",
       "    </tr>\n",
       "    <tr>\n",
       "      <th>3</th>\n",
       "      <td>user 4</td>\n",
       "      <td>2021-02-20T07:38:28Z</td>\n",
       "      <td>Tier 1</td>\n",
       "      <td>44</td>\n",
       "      <td>44</td>\n",
       "      <td>gift</td>\n",
       "      <td>False</td>\n",
       "    </tr>\n",
       "    <tr>\n",
       "      <th>4</th>\n",
       "      <td>user 5</td>\n",
       "      <td>2023-10-26T03:49:12Z</td>\n",
       "      <td>Tier 1</td>\n",
       "      <td>15</td>\n",
       "      <td>5</td>\n",
       "      <td>gift</td>\n",
       "      <td>False</td>\n",
       "    </tr>\n",
       "  </tbody>\n",
       "</table>\n",
       "</div>"
      ],
      "text/plain": [
       "  Username        Subscribe Date Current Tier  Tenure  Streak   Sub Type  \\\n",
       "0   user 1  2020-07-11T12:48:30Z       Tier 1      63      13      prime   \n",
       "1   user 2  2021-01-08T02:33:57Z       Tier 3      18      18  recurring   \n",
       "2   user 3  2019-08-05T22:51:37Z       Tier 1      60      36      prime   \n",
       "3   user 4  2021-02-20T07:38:28Z       Tier 1      44      44       gift   \n",
       "4   user 5  2023-10-26T03:49:12Z       Tier 1      15       5       gift   \n",
       "\n",
       "   Founder  \n",
       "0    False  \n",
       "1    False  \n",
       "2     True  \n",
       "3    False  \n",
       "4    False  "
      ]
     },
     "execution_count": 1,
     "metadata": {},
     "output_type": "execute_result"
    }
   ],
   "source": [
    "# import library and load the file with data\n",
    "import pandas as pd\n",
    "data = pd.read_csv('randomized_subscriber-list.csv')\n",
    "# check what we're working with!\n",
    "data.head()"
   ]
  },
  {
   "cell_type": "markdown",
   "id": "13586249",
   "metadata": {},
   "source": [
    "Clean the Data"
   ]
  },
  {
   "cell_type": "code",
   "execution_count": 2,
   "id": "473e2fd1",
   "metadata": {},
   "outputs": [
    {
     "data": {
      "text/html": [
       "<div>\n",
       "<style scoped>\n",
       "    .dataframe tbody tr th:only-of-type {\n",
       "        vertical-align: middle;\n",
       "    }\n",
       "\n",
       "    .dataframe tbody tr th {\n",
       "        vertical-align: top;\n",
       "    }\n",
       "\n",
       "    .dataframe thead th {\n",
       "        text-align: right;\n",
       "    }\n",
       "</style>\n",
       "<table border=\"1\" class=\"dataframe\">\n",
       "  <thead>\n",
       "    <tr style=\"text-align: right;\">\n",
       "      <th></th>\n",
       "      <th>Username</th>\n",
       "      <th>Subscribe Date</th>\n",
       "      <th>Current Tier</th>\n",
       "      <th>Tenure</th>\n",
       "      <th>Streak</th>\n",
       "      <th>Sub Type</th>\n",
       "    </tr>\n",
       "  </thead>\n",
       "  <tbody>\n",
       "    <tr>\n",
       "      <th>0</th>\n",
       "      <td>Panda 50</td>\n",
       "      <td>2019-04-25</td>\n",
       "      <td>Tier 2</td>\n",
       "      <td>95</td>\n",
       "      <td>95</td>\n",
       "      <td>recurring</td>\n",
       "    </tr>\n",
       "    <tr>\n",
       "      <th>1</th>\n",
       "      <td>Panda 5</td>\n",
       "      <td>2019-05-17</td>\n",
       "      <td>Tier 1</td>\n",
       "      <td>78</td>\n",
       "      <td>78</td>\n",
       "      <td>prime</td>\n",
       "    </tr>\n",
       "    <tr>\n",
       "      <th>2</th>\n",
       "      <td>Panda 30</td>\n",
       "      <td>2019-06-01</td>\n",
       "      <td>Tier 1</td>\n",
       "      <td>75</td>\n",
       "      <td>30</td>\n",
       "      <td>recurring</td>\n",
       "    </tr>\n",
       "    <tr>\n",
       "      <th>3</th>\n",
       "      <td>Panda 23</td>\n",
       "      <td>2019-08-05</td>\n",
       "      <td>Tier 1</td>\n",
       "      <td>60</td>\n",
       "      <td>36</td>\n",
       "      <td>prime</td>\n",
       "    </tr>\n",
       "    <tr>\n",
       "      <th>4</th>\n",
       "      <td>Panda 40</td>\n",
       "      <td>2020-01-15</td>\n",
       "      <td>Tier 2</td>\n",
       "      <td>41</td>\n",
       "      <td>11</td>\n",
       "      <td>recurring</td>\n",
       "    </tr>\n",
       "  </tbody>\n",
       "</table>\n",
       "</div>"
      ],
      "text/plain": [
       "   Username Subscribe Date Current Tier  Tenure  Streak   Sub Type\n",
       "0  Panda 50     2019-04-25       Tier 2      95      95  recurring\n",
       "1   Panda 5     2019-05-17       Tier 1      78      78      prime\n",
       "2  Panda 30     2019-06-01       Tier 1      75      30  recurring\n",
       "3  Panda 23     2019-08-05       Tier 1      60      36      prime\n",
       "4  Panda 40     2020-01-15       Tier 2      41      11  recurring"
      ]
     },
     "execution_count": 2,
     "metadata": {},
     "output_type": "execute_result"
    }
   ],
   "source": [
    "# dropping an unnecessary column (for me personally)\n",
    "data = data.drop(columns='Founder')\n",
    "\n",
    "# convert column Subscribe Date to datetime\n",
    "data['Subscribe Date'] = pd.to_datetime(data['Subscribe Date']) \n",
    "\n",
    "# convert column to date only, dropping the time part\n",
    "data['Subscribe Date'] = data['Subscribe Date'].dt.date\n",
    "\n",
    "# sort the data by Subscribe Date + reset index\n",
    "data = data.sort_values(by='Subscribe Date').reset_index(drop=True)\n",
    "\n",
    "# OPTIONAL: drop certain users from the list, such as yourself (my username is \"odetted\") and bots + reset index\n",
    "data = data[~data['Username'].isin(['odetted', 'nightbot'])].reset_index(drop=True) \n",
    "\n",
    "# OPTIONAL: if there would be a large number of users or bots you'd want dropped, we can save the list of them under a variable\n",
    "# blocked_users = ['odetted', 'nightbot']\n",
    "# data = data[~data['Username'].isin(blocked_users)].reset_index(drop=True)\n",
    "\n",
    "# OPTIONAL: if you like, you can anonymize the subs and also change \"Username X\" to whatever else\n",
    "# I go with pandas which is what I call my subs :)\n",
    "data['Username'] =  'Panda ' + (data.groupby('Username').ngroup() + 1).astype(str) # +1 means we start from 'Username 1' and not 'Username 0'\n",
    "\n",
    "# OPTIONAL: you can download the cleaned csv\n",
    "# data.to_csv('cleaned_subs.csv', index=False)\n",
    "\n",
    "# DISPLAY THE FINAL DATAFRAME \n",
    "data.head()"
   ]
  },
  {
   "cell_type": "markdown",
   "id": "929ec98c",
   "metadata": {},
   "source": [
    "#### Insights"
   ]
  },
  {
   "cell_type": "code",
   "execution_count": 3,
   "id": "27b22bd5",
   "metadata": {},
   "outputs": [
    {
     "name": "stdout",
     "output_type": "stream",
     "text": [
      "Average tenure of current subscribers is 47.16 months\n",
      "The longest tenure is: 95 months\n",
      "Average streak of current subscribers is 33.20 months\n",
      "The longest streak is: 95 months\n"
     ]
    }
   ],
   "source": [
    "mean_t = data['Tenure'].mean()\n",
    "longest_t = data['Tenure'].max()\n",
    "mean_s = data['Streak'].mean()\n",
    "longest_s = data['Streak'].max()\n",
    "print(f'Average tenure of current subscribers is {mean_t:.2f} months')\n",
    "print(f'The longest tenure is: {longest_t} months')\n",
    "print(f'Average streak of current subscribers is {mean_s:.2f} months')\n",
    "print(f'The longest streak is: {longest_s} months')\n"
   ]
  },
  {
   "cell_type": "markdown",
   "id": "5c97fbeb",
   "metadata": {},
   "source": [
    "#### Visualizations"
   ]
  },
  {
   "cell_type": "code",
   "execution_count": 4,
   "id": "826c3699",
   "metadata": {},
   "outputs": [],
   "source": [
    "# import matplotlib to produce visualizations\n",
    "import matplotlib.pyplot as plt"
   ]
  },
  {
   "cell_type": "markdown",
   "id": "af3f5e68",
   "metadata": {},
   "source": [
    "#### Subscriber Overview by Type: Bar Chart"
   ]
  },
  {
   "cell_type": "code",
   "execution_count": 5,
   "id": "dcfaace9",
   "metadata": {},
   "outputs": [
    {
     "data": {
      "image/png": "[encoded data removed]",
      "text/plain": [
       "<Figure size 400x300 with 1 Axes>"
      ]
     },
     "metadata": {},
     "output_type": "display_data"
    }
   ],
   "source": [
    "# obtain counts of subs per sub type\n",
    "subtypes = data['Sub Type'].value_counts()\n",
    "# subs\n",
    "\n",
    "# get the total count of subs to include it in the chart title\n",
    "subcount = data['Username'].count()\n",
    "# subcount\n",
    "\n",
    "# create the bar chart\n",
    "\n",
    "# match the color with the x thingies\n",
    "plt.figure(figsize=(4,3))\n",
    "ax = subtypes.plot(kind='bar', color=['lightgreen', 'lightblue', 'pink'])\n",
    "ax.bar_label(ax.containers[0], fontsize=10, color='black', label_type='center')\n",
    "\n",
    "# adjust\n",
    "plt.title(f'Subscribers by Type\\n (Total sub count: {subcount})')\n",
    "plt.xlabel('Subscription Type')\n",
    "plt.ylabel('Count')\n",
    "plt.xticks(rotation=0)\n",
    "plt.grid(axis='y', linestyle='--', alpha=0.5)\n",
    "\n",
    "plt.tight_layout()\n",
    "plt.savefig('subs_by_type_bar.png')\n",
    "plt.show()\n"
   ]
  },
  {
   "cell_type": "markdown",
   "id": "b824a89d",
   "metadata": {},
   "source": [
    "#### Subscriber Overview by Type: Pie Chart"
   ]
  },
  {
   "cell_type": "code",
   "execution_count": 6,
   "id": "f12047e0",
   "metadata": {},
   "outputs": [
    {
     "data": {
      "image/png": "[encoded data removed]",
      "text/plain": [
       "<Figure size 400x400 with 1 Axes>"
      ]
     },
     "metadata": {},
     "output_type": "display_data"
    }
   ],
   "source": [
    "plt.figure(figsize=(4, 4))\n",
    "plt.pie(subtypes.values, labels=subtypes.index, autopct='%1.1f%%', startangle=140, colors=['lightblue', 'lightgreen', 'pink'])\n",
    "plt.title('Proportion of Subscriptions by Type')\n",
    "plt.show()"
   ]
  },
  {
   "cell_type": "markdown",
   "id": "e537a65e",
   "metadata": {},
   "source": [
    "#### Subscriber Overview by Tiers: Bar Chart"
   ]
  },
  {
   "cell_type": "code",
   "execution_count": 7,
   "id": "50e059bc",
   "metadata": {},
   "outputs": [
    {
     "data": {
      "image/png": "[encoded data removed]",
      "text/plain": [
       "<Figure size 400x300 with 1 Axes>"
      ]
     },
     "metadata": {},
     "output_type": "display_data"
    }
   ],
   "source": [
    "tiers = data['Current Tier'].value_counts()\n",
    "tiers\n",
    "\n",
    "plt.figure(figsize=(4,3))\n",
    "ax = tiers.plot(kind='bar', color=['cornflowerblue', 'mediumaquamarine', 'hotpink'])\n",
    "ax.bar_label(ax.containers[0], fontsize=10, color='black', label_type='center')\n",
    "plt.title(f'Subscriptions by Tier\\n(Total subs: {subcount})')\n",
    "plt.xlabel('Subscription Tier')\n",
    "plt.ylabel('Count')\n",
    "plt.xticks(rotation=0)\n",
    "plt.grid(axis='y', linestyle='--', alpha=0.5)\n",
    "\n",
    "plt.tight_layout()\n",
    "plt.savefig('subscription_tiers_bar.png')\n",
    "plt.show()"
   ]
  },
  {
   "cell_type": "markdown",
   "id": "d9de387f",
   "metadata": {},
   "source": [
    "#### Subscriber Overview by Tiers: Pie Chart"
   ]
  },
  {
   "cell_type": "code",
   "execution_count": 8,
   "id": "7d4a20a9",
   "metadata": {},
   "outputs": [
    {
     "data": {
      "image/png": "[encoded data removed]",
      "text/plain": [
       "<Figure size 400x400 with 1 Axes>"
      ]
     },
     "metadata": {},
     "output_type": "display_data"
    }
   ],
   "source": [
    "plt.figure(figsize=(4, 4))\n",
    "plt.pie(tiers.values, labels=tiers.index, autopct='%1.1f%%', startangle=140, colors=['cornflowerblue', 'mediumaquamarine', 'hotpink'])\n",
    "plt.title('Proportion of Subscriptions by Tier')\n",
    "\n",
    "plt.show()"
   ]
  },
  {
   "cell_type": "markdown",
   "id": "bde7a3c5",
   "metadata": {},
   "source": [
    "#### DataFrames by sub type if we want to analyze them further in the future"
   ]
  },
  {
   "cell_type": "code",
   "execution_count": 9,
   "id": "c0c83408",
   "metadata": {},
   "outputs": [
    {
     "data": {
      "text/html": [
       "<div>\n",
       "<style scoped>\n",
       "    .dataframe tbody tr th:only-of-type {\n",
       "        vertical-align: middle;\n",
       "    }\n",
       "\n",
       "    .dataframe tbody tr th {\n",
       "        vertical-align: top;\n",
       "    }\n",
       "\n",
       "    .dataframe thead th {\n",
       "        text-align: right;\n",
       "    }\n",
       "</style>\n",
       "<table border=\"1\" class=\"dataframe\">\n",
       "  <thead>\n",
       "    <tr style=\"text-align: right;\">\n",
       "      <th></th>\n",
       "      <th>Username</th>\n",
       "      <th>Subscribe Date</th>\n",
       "      <th>Current Tier</th>\n",
       "      <th>Tenure</th>\n",
       "      <th>Streak</th>\n",
       "      <th>Sub Type</th>\n",
       "    </tr>\n",
       "  </thead>\n",
       "  <tbody>\n",
       "    <tr>\n",
       "      <th>0</th>\n",
       "      <td>Panda 50</td>\n",
       "      <td>2019-04-25</td>\n",
       "      <td>Tier 2</td>\n",
       "      <td>95</td>\n",
       "      <td>95</td>\n",
       "      <td>recurring</td>\n",
       "    </tr>\n",
       "    <tr>\n",
       "      <th>1</th>\n",
       "      <td>Panda 30</td>\n",
       "      <td>2019-06-01</td>\n",
       "      <td>Tier 1</td>\n",
       "      <td>75</td>\n",
       "      <td>30</td>\n",
       "      <td>recurring</td>\n",
       "    </tr>\n",
       "    <tr>\n",
       "      <th>2</th>\n",
       "      <td>Panda 40</td>\n",
       "      <td>2020-01-15</td>\n",
       "      <td>Tier 2</td>\n",
       "      <td>41</td>\n",
       "      <td>11</td>\n",
       "      <td>recurring</td>\n",
       "    </tr>\n",
       "    <tr>\n",
       "      <th>3</th>\n",
       "      <td>Panda 11</td>\n",
       "      <td>2020-02-27</td>\n",
       "      <td>Tier 2</td>\n",
       "      <td>72</td>\n",
       "      <td>22</td>\n",
       "      <td>recurring</td>\n",
       "    </tr>\n",
       "    <tr>\n",
       "      <th>4</th>\n",
       "      <td>Panda 9</td>\n",
       "      <td>2020-03-28</td>\n",
       "      <td>Tier 1</td>\n",
       "      <td>85</td>\n",
       "      <td>78</td>\n",
       "      <td>recurring</td>\n",
       "    </tr>\n",
       "  </tbody>\n",
       "</table>\n",
       "</div>"
      ],
      "text/plain": [
       "   Username Subscribe Date Current Tier  Tenure  Streak   Sub Type\n",
       "0  Panda 50     2019-04-25       Tier 2      95      95  recurring\n",
       "1  Panda 30     2019-06-01       Tier 1      75      30  recurring\n",
       "2  Panda 40     2020-01-15       Tier 2      41      11  recurring\n",
       "3  Panda 11     2020-02-27       Tier 2      72      22  recurring\n",
       "4   Panda 9     2020-03-28       Tier 1      85      78  recurring"
      ]
     },
     "execution_count": 9,
     "metadata": {},
     "output_type": "execute_result"
    }
   ],
   "source": [
    "recurring = data[data['Sub Type'] == 'recurring'].reset_index(drop=True) \n",
    "recurring.head()"
   ]
  },
  {
   "cell_type": "code",
   "execution_count": 10,
   "id": "ca466309",
   "metadata": {},
   "outputs": [
    {
     "data": {
      "text/html": [
       "<div>\n",
       "<style scoped>\n",
       "    .dataframe tbody tr th:only-of-type {\n",
       "        vertical-align: middle;\n",
       "    }\n",
       "\n",
       "    .dataframe tbody tr th {\n",
       "        vertical-align: top;\n",
       "    }\n",
       "\n",
       "    .dataframe thead th {\n",
       "        text-align: right;\n",
       "    }\n",
       "</style>\n",
       "<table border=\"1\" class=\"dataframe\">\n",
       "  <thead>\n",
       "    <tr style=\"text-align: right;\">\n",
       "      <th></th>\n",
       "      <th>Username</th>\n",
       "      <th>Subscribe Date</th>\n",
       "      <th>Current Tier</th>\n",
       "      <th>Tenure</th>\n",
       "      <th>Streak</th>\n",
       "      <th>Sub Type</th>\n",
       "    </tr>\n",
       "  </thead>\n",
       "  <tbody>\n",
       "    <tr>\n",
       "      <th>0</th>\n",
       "      <td>Panda 5</td>\n",
       "      <td>2019-05-17</td>\n",
       "      <td>Tier 1</td>\n",
       "      <td>78</td>\n",
       "      <td>78</td>\n",
       "      <td>prime</td>\n",
       "    </tr>\n",
       "    <tr>\n",
       "      <th>1</th>\n",
       "      <td>Panda 23</td>\n",
       "      <td>2019-08-05</td>\n",
       "      <td>Tier 1</td>\n",
       "      <td>60</td>\n",
       "      <td>36</td>\n",
       "      <td>prime</td>\n",
       "    </tr>\n",
       "    <tr>\n",
       "      <th>2</th>\n",
       "      <td>Panda 38</td>\n",
       "      <td>2020-04-21</td>\n",
       "      <td>Tier 1</td>\n",
       "      <td>33</td>\n",
       "      <td>13</td>\n",
       "      <td>prime</td>\n",
       "    </tr>\n",
       "    <tr>\n",
       "      <th>3</th>\n",
       "      <td>Panda 43</td>\n",
       "      <td>2020-06-13</td>\n",
       "      <td>Tier 1</td>\n",
       "      <td>73</td>\n",
       "      <td>64</td>\n",
       "      <td>prime</td>\n",
       "    </tr>\n",
       "    <tr>\n",
       "      <th>4</th>\n",
       "      <td>Panda 1</td>\n",
       "      <td>2020-07-11</td>\n",
       "      <td>Tier 1</td>\n",
       "      <td>63</td>\n",
       "      <td>13</td>\n",
       "      <td>prime</td>\n",
       "    </tr>\n",
       "  </tbody>\n",
       "</table>\n",
       "</div>"
      ],
      "text/plain": [
       "   Username Subscribe Date Current Tier  Tenure  Streak Sub Type\n",
       "0   Panda 5     2019-05-17       Tier 1      78      78    prime\n",
       "1  Panda 23     2019-08-05       Tier 1      60      36    prime\n",
       "2  Panda 38     2020-04-21       Tier 1      33      13    prime\n",
       "3  Panda 43     2020-06-13       Tier 1      73      64    prime\n",
       "4   Panda 1     2020-07-11       Tier 1      63      13    prime"
      ]
     },
     "execution_count": 10,
     "metadata": {},
     "output_type": "execute_result"
    }
   ],
   "source": [
    "prime = data[data['Sub Type'] == 'prime'].reset_index(drop=True) \n",
    "prime.head()"
   ]
  },
  {
   "cell_type": "code",
   "execution_count": 11,
   "id": "61c85d0f",
   "metadata": {},
   "outputs": [
    {
     "data": {
      "text/html": [
       "<div>\n",
       "<style scoped>\n",
       "    .dataframe tbody tr th:only-of-type {\n",
       "        vertical-align: middle;\n",
       "    }\n",
       "\n",
       "    .dataframe tbody tr th {\n",
       "        vertical-align: top;\n",
       "    }\n",
       "\n",
       "    .dataframe thead th {\n",
       "        text-align: right;\n",
       "    }\n",
       "</style>\n",
       "<table border=\"1\" class=\"dataframe\">\n",
       "  <thead>\n",
       "    <tr style=\"text-align: right;\">\n",
       "      <th></th>\n",
       "      <th>Username</th>\n",
       "      <th>Subscribe Date</th>\n",
       "      <th>Current Tier</th>\n",
       "      <th>Tenure</th>\n",
       "      <th>Streak</th>\n",
       "      <th>Sub Type</th>\n",
       "    </tr>\n",
       "  </thead>\n",
       "  <tbody>\n",
       "    <tr>\n",
       "      <th>0</th>\n",
       "      <td>Panda 16</td>\n",
       "      <td>2020-03-05</td>\n",
       "      <td>Tier 1</td>\n",
       "      <td>89</td>\n",
       "      <td>21</td>\n",
       "      <td>gift</td>\n",
       "    </tr>\n",
       "    <tr>\n",
       "      <th>1</th>\n",
       "      <td>Panda 31</td>\n",
       "      <td>2020-05-29</td>\n",
       "      <td>Tier 1</td>\n",
       "      <td>63</td>\n",
       "      <td>5</td>\n",
       "      <td>gift</td>\n",
       "    </tr>\n",
       "    <tr>\n",
       "      <th>2</th>\n",
       "      <td>Panda 34</td>\n",
       "      <td>2021-02-20</td>\n",
       "      <td>Tier 1</td>\n",
       "      <td>44</td>\n",
       "      <td>44</td>\n",
       "      <td>gift</td>\n",
       "    </tr>\n",
       "    <tr>\n",
       "      <th>3</th>\n",
       "      <td>Panda 36</td>\n",
       "      <td>2022-01-20</td>\n",
       "      <td>Tier 1</td>\n",
       "      <td>35</td>\n",
       "      <td>9</td>\n",
       "      <td>gift</td>\n",
       "    </tr>\n",
       "    <tr>\n",
       "      <th>4</th>\n",
       "      <td>Panda 28</td>\n",
       "      <td>2022-08-15</td>\n",
       "      <td>Tier 1</td>\n",
       "      <td>1</td>\n",
       "      <td>1</td>\n",
       "      <td>gift</td>\n",
       "    </tr>\n",
       "  </tbody>\n",
       "</table>\n",
       "</div>"
      ],
      "text/plain": [
       "   Username Subscribe Date Current Tier  Tenure  Streak Sub Type\n",
       "0  Panda 16     2020-03-05       Tier 1      89      21     gift\n",
       "1  Panda 31     2020-05-29       Tier 1      63       5     gift\n",
       "2  Panda 34     2021-02-20       Tier 1      44      44     gift\n",
       "3  Panda 36     2022-01-20       Tier 1      35       9     gift\n",
       "4  Panda 28     2022-08-15       Tier 1       1       1     gift"
      ]
     },
     "execution_count": 11,
     "metadata": {},
     "output_type": "execute_result"
    }
   ],
   "source": [
    "gifts = data[data['Sub Type'] == 'gift'].reset_index(drop=True) \n",
    "gifts.head()"
   ]
  }
 ],
 "metadata": {
  "kernelspec": {
   "display_name": "Python 3",
   "language": "python",
   "name": "python3"
  },
  "language_info": {
   "codemirror_mode": {
    "name": "ipython",
    "version": 3
   },
   "file_extension": ".py",
   "mimetype": "text/x-python",
   "name": "python",
   "nbconvert_exporter": "python",
   "pygments_lexer": "ipython3",
   "version": "3.12.4"
  }
 },
 "nbformat": 4,
 "nbformat_minor": 5
}
